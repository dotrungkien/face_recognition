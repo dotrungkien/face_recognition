{
 "cells": [
  {
   "cell_type": "code",
   "execution_count": null,
   "metadata": {},
   "outputs": [],
   "source": [
    "from __future__ import print_function\n",
    "import os\n",
    "from os import listdir\n",
    "from os.path import join, isfile, isdir\n",
    "from shutil import copyfile, rmtree\n",
    "from PIL import Image\n",
    "\n",
    "RAW_PATH = './Face'\n",
    "DATA_PATH = './data'\n",
    "TRAIN = 'Train'\n",
    "TEST = 'Test'\n",
    "IMAGE_SIZE = 32, 32"
   ]
  },
  {
   "cell_type": "code",
   "execution_count": null,
   "metadata": {},
   "outputs": [],
   "source": [
    "from sklearn.svm import SVC\n",
    "import numpy as np\n",
    "from imageio import imread"
   ]
  },
  {
   "cell_type": "code",
   "execution_count": null,
   "metadata": {
    "scrolled": false
   },
   "outputs": [],
   "source": [
    "data_path = \"./data/\"\n",
    "path_type = \"Train\"\n",
    "images_path = join(data_path, path_type + \"_resized\")\n",
    "images_path"
   ]
  },
  {
   "cell_type": "code",
   "execution_count": null,
   "metadata": {},
   "outputs": [],
   "source": [
    "train_images_path = [join(images_path, f) for f in listdir(images_path) if isfile(join(images_path, f)) and 'jpg' in f]\n",
    "len(train_images_path)"
   ]
  },
  {
   "cell_type": "code",
   "execution_count": null,
   "metadata": {},
   "outputs": [],
   "source": [
    "train_images, train_labels, test_images, test_labels = [], [], [], []"
   ]
  },
  {
   "cell_type": "code",
   "execution_count": null,
   "metadata": {},
   "outputs": [],
   "source": [
    "for train_image_path in train_images_path:\n",
    "    image = imread(train_image_path)\n",
    "    image = image.reshape(32*32)\n",
    "    image_label = train_image_path.split('/')[-1].split('_')[0]\n",
    "    train_images.append(image)\n",
    "    train_labels.append(image_label)\n"
   ]
  },
  {
   "cell_type": "code",
   "execution_count": null,
   "metadata": {},
   "outputs": [],
   "source": [
    "print(list(set(train_labels)))"
   ]
  },
  {
   "cell_type": "code",
   "execution_count": null,
   "metadata": {
    "scrolled": true
   },
   "outputs": [],
   "source": [
    "img = imread('test.jpg')\n",
    "img = img.reshape(186*141*3)\n",
    "img = [i/255. for i in img]\n",
    "img.shape"
   ]
  },
  {
   "cell_type": "code",
   "execution_count": 1,
   "metadata": {},
   "outputs": [],
   "source": [
    "# To support both python 2 and python 3\n",
    "from __future__ import division, print_function, unicode_literals\n",
    "\n",
    "# Common imports\n",
    "import numpy as np\n",
    "import os\n",
    "\n",
    "# to make this notebook's output stable across runs\n",
    "def reset_graph(seed=42):\n",
    "    tf.reset_default_graph()\n",
    "    tf.set_random_seed(seed)\n",
    "    np.random.seed(seed)\n",
    "\n",
    "# To plot pretty figures\n",
    "%matplotlib inline\n",
    "import matplotlib\n",
    "import matplotlib.pyplot as plt\n",
    "plt.rcParams['axes.labelsize'] = 14\n",
    "plt.rcParams['xtick.labelsize'] = 12\n",
    "plt.rcParams['ytick.labelsize'] = 12\n",
    "\n",
    "# Where to save the figures\n",
    "PROJECT_ROOT_DIR = \".\"\n",
    "CHAPTER_ID = \"cnn\"\n",
    "\n",
    "def save_fig(fig_id, tight_layout=True):\n",
    "    path = os.path.join(PROJECT_ROOT_DIR, \"images\", CHAPTER_ID, fig_id + \".png\")\n",
    "    print(\"Saving figure\", fig_id)\n",
    "    if tight_layout:\n",
    "        plt.tight_layout()\n",
    "    plt.savefig(path, format='png', dpi=300)"
   ]
  },
  {
   "cell_type": "code",
   "execution_count": 3,
   "metadata": {},
   "outputs": [],
   "source": [
    "import tensorflow as tf\n",
    "\n",
    "height = 28\n",
    "width = 28\n",
    "channels = 1\n",
    "n_inputs = height * width\n",
    "\n",
    "conv1_fmaps = 32\n",
    "conv1_ksize = 3\n",
    "conv1_stride = 1\n",
    "conv1_pad = \"SAME\"\n",
    "\n",
    "conv2_fmaps = 64\n",
    "conv2_ksize = 3\n",
    "conv2_stride = 2\n",
    "conv2_pad = \"SAME\"\n",
    "\n",
    "pool3_fmaps = conv2_fmaps\n",
    "\n",
    "n_fc1 = 64\n",
    "n_outputs = 27\n",
    "\n",
    "reset_graph()\n",
    "\n",
    "with tf.name_scope(\"inputs\"):\n",
    "    X = tf.placeholder(tf.float32, shape=[None, n_inputs], name=\"X\")\n",
    "    X_reshaped = tf.reshape(X, shape=[-1, height, width, channels])\n",
    "    y = tf.placeholder(tf.int32, shape=[None], name=\"y\")\n",
    "\n",
    "conv1 = tf.layers.conv2d(X_reshaped, filters=conv1_fmaps, kernel_size=conv1_ksize,\n",
    "                         strides=conv1_stride, padding=conv1_pad,\n",
    "                         activation=tf.nn.relu, name=\"conv1\")\n",
    "conv2 = tf.layers.conv2d(conv1, filters=conv2_fmaps, kernel_size=conv2_ksize,\n",
    "                         strides=conv2_stride, padding=conv2_pad,\n",
    "                         activation=tf.nn.relu, name=\"conv2\")\n",
    "\n",
    "with tf.name_scope(\"pool3\"):\n",
    "    pool3 = tf.nn.max_pool(conv2, ksize=[1, 2, 2, 1], strides=[1, 2, 2, 1], padding=\"VALID\")\n",
    "    pool3_flat = tf.reshape(pool3, shape=[-1, pool3_fmaps * 7 * 7])\n",
    "\n",
    "with tf.name_scope(\"fc1\"):\n",
    "    fc1 = tf.layers.dense(pool3_flat, n_fc1, activation=tf.nn.relu, name=\"fc1\")\n",
    "\n",
    "with tf.name_scope(\"output\"):\n",
    "    logits = tf.layers.dense(fc1, n_outputs, name=\"output\")\n",
    "    Y_proba = tf.nn.softmax(logits, name=\"Y_proba\")\n",
    "\n",
    "with tf.name_scope(\"train\"):\n",
    "    xentropy = tf.nn.sparse_softmax_cross_entropy_with_logits(logits=logits, labels=y)\n",
    "    loss = tf.reduce_mean(xentropy)\n",
    "    optimizer = tf.train.AdamOptimizer()\n",
    "    training_op = optimizer.minimize(loss)\n",
    "\n",
    "with tf.name_scope(\"eval\"):\n",
    "    correct = tf.nn.in_top_k(logits, y, 1)\n",
    "    accuracy = tf.reduce_mean(tf.cast(correct, tf.float32))\n",
    "\n",
    "with tf.name_scope(\"init_and_save\"):\n",
    "    init = tf.global_variables_initializer()\n",
    "    saver = tf.train.Saver()"
   ]
  },
  {
   "cell_type": "code",
   "execution_count": 9,
   "metadata": {},
   "outputs": [],
   "source": [
    "import os\n",
    "from os import listdir\n",
    "from os.path import isfile, join\n",
    "import numpy as np\n",
    "from imageio import imread\n",
    "\n",
    "DATA_PATH = './data'\n",
    "LABELS = [\n",
    "    'nguyennt3', 'hieubq', 'trangdnt', 'diepdt2', 'tiennd', 'phuongnt3',\n",
    "    'nhanlt3', 'dathv', 'thanhnt', 'tuannm4', 'anhpt4', 'ChiHoaLaoCong',\n",
    "    'anhnp2', 'anhnh2', 'thanhpv2', 'truongtd4', 'huyencm', 'thanhlc',\n",
    "    'hadn', 'hieuvm', 'thaontp2', 'thaonp2', 'chaudtb', 'thuybt', 'nhungvth',\n",
    "    'vinhnd2', 'anhpq']\n",
    "\n",
    "def read_data(path_type):\n",
    "    if not path_type:\n",
    "        return\n",
    "    data_path = join(DATA_PATH, path_type + \"_resized\")\n",
    "    images_path = [\n",
    "        join(data_path, f) for f in listdir(data_path)\n",
    "        if f.endswith('.jpg')\n",
    "    ]\n",
    "    images, labels = [], []\n",
    "    for image_path in images_path:\n",
    "        image = imread(image_path)\n",
    "        image = image.reshape(28*28)\n",
    "        image = [i/255. for i in image]\n",
    "        image_label = LABELS.index(image_path.split('/')[-1].split('_')[0])\n",
    "        images.append(image)\n",
    "        labels.append(image_label)\n",
    "    return np.array(images), np.array(labels)\n",
    "\n",
    "def shuffle_data(images, labels):\n",
    "    l = images.shape[0]\n",
    "    idx = np.arange(l)\n",
    "    np.random.shuffle(idx)\n",
    "    return images[idx, ], labels[idx, ]"
   ]
  },
  {
   "cell_type": "code",
   "execution_count": 5,
   "metadata": {},
   "outputs": [
    {
     "data": {
      "text/plain": [
       "((17102, 784), (17102,))"
      ]
     },
     "execution_count": 5,
     "metadata": {},
     "output_type": "execute_result"
    }
   ],
   "source": [
    "train_images, train_labels = read_data('Train')\n",
    "test_images, test_labels = read_data('Test')\n",
    "train_images.shape, train_labels.shape"
   ]
  },
  {
   "cell_type": "code",
   "execution_count": 13,
   "metadata": {},
   "outputs": [],
   "source": [
    "n_epochs = 50\n",
    "batch_size = 250\n",
    "n_iterations = train_images.shape[0] // batch_size"
   ]
  },
  {
   "cell_type": "code",
   "execution_count": null,
   "metadata": {},
   "outputs": [
    {
     "name": "stdout",
     "output_type": "stream",
     "text": [
      "0 Train accuracy: 0.432 Test accuracy: 0.348873\n",
      "1 Train accuracy: 0.676 Test accuracy: 0.522234\n",
      "2 Train accuracy: 0.788 Test accuracy: 0.575102\n",
      "3 Train accuracy: 0.82 Test accuracy: 0.607172\n",
      "4 Train accuracy: 0.872 Test accuracy: 0.633299\n",
      "5 Train accuracy: 0.904 Test accuracy: 0.651025\n",
      "6 Train accuracy: 0.912 Test accuracy: 0.657787\n",
      "7 Train accuracy: 0.928 Test accuracy: 0.664447\n",
      "8 Train accuracy: 0.944 Test accuracy: 0.668443\n",
      "9 Train accuracy: 0.944 Test accuracy: 0.675205\n",
      "10 Train accuracy: 0.944 Test accuracy: 0.682787\n",
      "11 Train accuracy: 0.952 Test accuracy: 0.686475\n",
      "12 Train accuracy: 0.948 Test accuracy: 0.686475\n",
      "13 Train accuracy: 0.952 Test accuracy: 0.687193\n",
      "14 Train accuracy: 0.952 Test accuracy: 0.686168\n",
      "15 Train accuracy: 0.96 Test accuracy: 0.684016\n",
      "16 Train accuracy: 0.972 Test accuracy: 0.682787\n",
      "17 Train accuracy: 0.964 Test accuracy: 0.683402\n",
      "18 Train accuracy: 0.968 Test accuracy: 0.682275\n",
      "19 Train accuracy: 0.96 Test accuracy: 0.686066\n",
      "20 Train accuracy: 0.968 Test accuracy: 0.692111\n",
      "21 Train accuracy: 0.98 Test accuracy: 0.697336\n",
      "22 Train accuracy: 0.984 Test accuracy: 0.700615\n",
      "23 Train accuracy: 0.984 Test accuracy: 0.697643\n",
      "24 Train accuracy: 0.992 Test accuracy: 0.696107\n",
      "25 Train accuracy: 0.992 Test accuracy: 0.702561\n",
      "26 Train accuracy: 0.996 Test accuracy: 0.70666\n",
      "27 Train accuracy: 0.992 Test accuracy: 0.704508\n",
      "28 Train accuracy: 0.992 Test accuracy: 0.704508\n",
      "29 Train accuracy: 0.988 Test accuracy: 0.697746\n",
      "30 Train accuracy: 0.996 Test accuracy: 0.704508\n",
      "31 Train accuracy: 0.992 Test accuracy: 0.702459\n",
      "32 Train accuracy: 0.996 Test accuracy: 0.72541\n",
      "33 Train accuracy: 0.992 Test accuracy: 0.737398\n",
      "34 Train accuracy: 0.988 Test accuracy: 0.719365\n",
      "35 Train accuracy: 0.996 Test accuracy: 0.714754\n",
      "36 Train accuracy: 0.996 Test accuracy: 0.704713\n",
      "37 Train accuracy: 1.0 Test accuracy: 0.715574\n"
     ]
    }
   ],
   "source": [
    "with tf.Session() as sess:\n",
    "    init.run()\n",
    "    for epoch in range(n_epochs):\n",
    "        shuffle_data(train_images, train_labels)\n",
    "        train_imgs = train_images[:n_iterations*batch_size, ]\n",
    "        train_lbs = train_labels[:n_iterations*batch_size, ]\n",
    "        X_train = np.split(train_imgs, n_iterations)\n",
    "        y_train = np.split(train_lbs, n_iterations)\n",
    "        for iteration in range(n_iterations):\n",
    "            X_batch, y_batch = X_train[iteration], y_train[iteration]\n",
    "            sess.run(training_op, feed_dict={X: X_batch, y: y_batch})\n",
    "        acc_train = accuracy.eval(feed_dict={X: X_batch, y: y_batch})\n",
    "        acc_test = accuracy.eval(feed_dict={X: test_images, y: test_labels})\n",
    "        print(epoch, \"Train accuracy:\", acc_train, \"Test accuracy:\", acc_test)\n",
    "\n",
    "        save_path = saver.save(sess, \"./my_mnist_model\")"
   ]
  },
  {
   "cell_type": "code",
   "execution_count": null,
   "metadata": {},
   "outputs": [],
   "source": []
  },
  {
   "cell_type": "code",
   "execution_count": null,
   "metadata": {},
   "outputs": [],
   "source": []
  },
  {
   "cell_type": "code",
   "execution_count": null,
   "metadata": {},
   "outputs": [],
   "source": []
  },
  {
   "cell_type": "code",
   "execution_count": null,
   "metadata": {},
   "outputs": [],
   "source": []
  }
 ],
 "metadata": {
  "kernelspec": {
   "display_name": "Python 3",
   "language": "python",
   "name": "python3"
  },
  "language_info": {
   "codemirror_mode": {
    "name": "ipython",
    "version": 3
   },
   "file_extension": ".py",
   "mimetype": "text/x-python",
   "name": "python",
   "nbconvert_exporter": "python",
   "pygments_lexer": "ipython3",
   "version": "3.5.2"
  }
 },
 "nbformat": 4,
 "nbformat_minor": 2
}
